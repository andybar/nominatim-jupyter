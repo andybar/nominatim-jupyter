{
 "cells": [
  {
   "cell_type": "code",
   "execution_count": 44,
   "id": "d23e9c19",
   "metadata": {
    "scrolled": false
   },
   "outputs": [
    {
     "data": {
      "application/vnd.jupyter.widget-view+json": {
       "model_id": "9c942804cb17421096debccf18eca0bd",
       "version_major": 2,
       "version_minor": 0
      },
      "text/plain": [
       "Sheet(cells=(Cell(column_end=0, column_start=0, row_end=0, row_start=0, type='text', value='Широта'), Cell(col…"
      ]
     },
     "metadata": {},
     "output_type": "display_data"
    }
   ],
   "source": [
    "import ipysheet\n",
    "sheet = ipysheet.sheet(rows=3, columns=3)\n",
    "ipysheet.cell(0, 0, 'Широта')\n",
    "ipysheet.cell(0, 1, 'Долгота')\n",
    "ipysheet.cell(0, 2, 'Адрес')\n",
    "\n",
    "sheet"
   ]
  },
  {
   "cell_type": "code",
   "execution_count": 43,
   "id": "21b3791a",
   "metadata": {
    "scrolled": true
   },
   "outputs": [
    {
     "data": {
      "text/plain": [
       "Cell(column_end=3, column_start=3, row_end=1, row_start=1, type='text', value='Московский Кремль, Дворцовая пл…"
      ]
     },
     "metadata": {},
     "output_type": "display_data"
    }
   ],
   "source": [
    "import requests\n",
    "import json\n",
    "import time\n",
    "lat = 55.751244\n",
    "lon = 37.618423\n",
    "contents = requests.get(f\"https://nominatim.openstreetmap.org/reverse?lat={lat}&lon={lon}&format=json\").content\n",
    "time.sleep(1)\n",
    "jsonContent = json.loads(contents)\n",
    "ipysheet.cell(1, 3, jsonContent['display_name'])"
   ]
  },
  {
   "cell_type": "code",
   "execution_count": null,
   "id": "1d83c71b",
   "metadata": {},
   "outputs": [],
   "source": []
  }
 ],
 "metadata": {
  "kernelspec": {
   "display_name": "Python 3 (ipykernel)",
   "language": "python",
   "name": "python3"
  },
  "language_info": {
   "codemirror_mode": {
    "name": "ipython",
    "version": 3
   },
   "file_extension": ".py",
   "mimetype": "text/x-python",
   "name": "python",
   "nbconvert_exporter": "python",
   "pygments_lexer": "ipython3",
   "version": "3.9.7"
  }
 },
 "nbformat": 4,
 "nbformat_minor": 5
}
