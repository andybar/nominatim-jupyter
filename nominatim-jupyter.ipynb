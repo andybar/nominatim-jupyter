{
 "cells": [
  {
   "cell_type": "code",
   "execution_count": 152,
   "id": "663b7c97",
   "metadata": {},
   "outputs": [
    {
     "data": {
      "application/vnd.jupyter.widget-view+json": {
       "model_id": "6fc342e1d83d4c12b6bd3012b3de7a25",
       "version_major": 2,
       "version_minor": 0
      },
      "text/plain": [
       "Sheet(cells=(Cell(column_end=2, column_start=0, numeric_format=None, row_end=2, row_start=0, squeeze_column=Fa…"
      ]
     },
     "metadata": {},
     "output_type": "display_data"
    }
   ],
   "source": [
    "import requests\n",
    "import json\n",
    "import time\n",
    "import ipysheet\n",
    "arr = [[55.751244,37.618423], [59.563178,30.188478]]\n",
    "for i in range(0, len(arr)):\n",
    "    contents = requests.get(f\"https://nominatim.openstreetmap.org/reverse?lat={arr[i][0]}&lon={arr[i][1]}&format=json\").content\n",
    "    time.sleep(1.5)\n",
    "    arr[i].append(json.loads(contents)['display_name'])\n",
    "\n",
    "arr.insert(0, ['Широта', \"Долгота\", 'Адрес'])\n",
    "sheet = ipysheet.from_array(numpy.asarray(arr))\n",
    "sheet"
   ]
  },
  {
   "cell_type": "code",
   "execution_count": null,
   "id": "b7afb90d",
   "metadata": {},
   "outputs": [],
   "source": []
  }
 ],
 "metadata": {
  "kernelspec": {
   "display_name": "Python 3 (ipykernel)",
   "language": "python",
   "name": "python3"
  },
  "language_info": {
   "codemirror_mode": {
    "name": "ipython",
    "version": 3
   },
   "file_extension": ".py",
   "mimetype": "text/x-python",
   "name": "python",
   "nbconvert_exporter": "python",
   "pygments_lexer": "ipython3",
   "version": "3.9.7"
  }
 },
 "nbformat": 4,
 "nbformat_minor": 5
}
